{
 "cells": [
  {
   "cell_type": "code",
   "execution_count": 1,
   "metadata": {},
   "outputs": [],
   "source": [
    "import numpy as np\n",
    "import pandas as pd\n",
    "\n",
    "import matplotlib.pyplot as plt\n",
    "import seaborn as sns"
   ]
  },
  {
   "cell_type": "code",
   "execution_count": 2,
   "metadata": {},
   "outputs": [],
   "source": [
    "test = pd.read_pickle(\"../../bld/out/data/test-kw_97_extended.pkl\")\n",
    "pred = pd.read_pickle(\"../../bld/out/analysis/kw_97_extended/predictions.pkl\")\n",
    "\n",
    "surrogate_model = 'neuralnet_n-20000_f_layers_88-88_n_epochs_200_n_batch_size_128_p_None'\n",
    "\n",
    "test = test.reset_index(drop=True)\n",
    "test = test.rename(columns={\"qoi\": \"true\"})\n",
    "\n",
    "test[\"pred\"] = pred[surrogate_model]\n",
    "\n",
    "test = test.sort_values(\"delta\")\n",
    "\n",
    "mini, maxi = test[\"delta\"].min(), test[\"delta\"].max()\n",
    "mini = np.floor(mini * 100) / 100\n",
    "delta_grid = np.linspace(mini, maxi, 150)\n",
    "\n",
    "test[\"delta_binned\"] = pd.cut(test[\"delta\"], delta_grid)\n",
    "\n",
    "df = test.groupby(\"delta_binned\").mean()[[\"delta\", \"true\", \"pred\"]]\n",
    "\n",
    "df = df.reset_index()\n",
    "df[\"delta\"] = df[\"delta_binned\"].map(lambda interval: interval.left).astype(float)\n",
    "\n",
    "df = df.drop(\"delta_binned\", axis=1)\n",
    "df = df.melt(id_vars=\"delta\", var_name=\"type\", value_name=\"qoi\")\n",
    "\n",
    "fig, ax = plt.subplots(figsize=(11, 6))\n",
    "sns.lineplot(\n",
    "    x=\"delta\", y=\"qoi\", hue=\"type\", alpha=0.75, data=df, ax=ax, legend=None, linewidth=3\n",
    ")\n",
    "plt.legend(\n",
    "    loc='lower left', labels=['True Model', 'Surrogate Model'], prop={\"size\": 12}, frameon=False\n",
    ")\n",
    "plt.xlabel(\"Delta\", fontsize=12)\n",
    "plt.ylabel(\"Quantity of Interest\", fontsize=12)\n",
    "fig.savefig(\"true-vs-surrogate.png\", bbox_inches=\"tight\")"
   ]
  }
 ],
 "metadata": {
  "kernelspec": {
   "display_name": "Python 3",
   "language": "python",
   "name": "python3"
  },
  "language_info": {
   "codemirror_mode": {
    "name": "ipython",
    "version": 3
   },
   "file_extension": ".py",
   "mimetype": "text/x-python",
   "name": "python",
   "nbconvert_exporter": "python",
   "pygments_lexer": "ipython3",
   "version": "3.7.7"
  }
 },
 "nbformat": 4,
 "nbformat_minor": 4
}
